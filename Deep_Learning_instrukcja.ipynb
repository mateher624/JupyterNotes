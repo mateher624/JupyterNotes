{
  "nbformat": 4,
  "nbformat_minor": 0,
  "metadata": {
    "colab": {
      "name": "Deep_Learning_instrukcja",
      "version": "0.3.2",
      "provenance": [],
      "collapsed_sections": []
    },
    "kernelspec": {
      "name": "python3",
      "display_name": "Python 3"
    },
    "accelerator": "GPU"
  },
  "cells": [
    {
      "metadata": {
        "id": "3D_QtB69ah7X",
        "colab_type": "text"
      },
      "cell_type": "markdown",
      "source": [
        "# Instrukcja do laboratorium z Deep Learningu\n"
      ]
    },
    {
      "metadata": {
        "id": "r17SeRVOEVxI",
        "colab_type": "text"
      },
      "cell_type": "markdown",
      "source": [
        "Imię i Nazwisko:   \n",
        "Data:  \n",
        "Przydzielony zbiór danych (CIFAR10/MNIST/Fashion-MNIST):   \n",
        "Indeksy etykiet do rozpoznania (zakres): 0-10\n"
      ]
    },
    {
      "metadata": {
        "id": "0g-8Ry8EEwCS",
        "colab_type": "text"
      },
      "cell_type": "markdown",
      "source": [
        "__Uwaga: Kod powinien działać po uruchomieniu całego notebooka od zera po jego zrestartowaniu.__"
      ]
    },
    {
      "metadata": {
        "id": "rJFs9IfHh3Ez",
        "colab_type": "text"
      },
      "cell_type": "markdown",
      "source": [
        "## 1. Zapoznanie się ze środowiskiem (1 pkt)"
      ]
    },
    {
      "metadata": {
        "id": "lWobXCzcC3QZ",
        "colab_type": "text"
      },
      "cell_type": "markdown",
      "source": [
        "### 1.1 Wykonywanie komend konsolowych w notebooku i środowisko pracy."
      ]
    },
    {
      "metadata": {
        "id": "3sT7RU6wCgb-",
        "colab_type": "code",
        "colab": {}
      },
      "cell_type": "code",
      "source": [
        "! apt install neofetch\n",
        "! neofetch"
      ],
      "execution_count": 0,
      "outputs": []
    },
    {
      "metadata": {
        "id": "UAqzkHJCDAW4",
        "colab_type": "text"
      },
      "cell_type": "markdown",
      "source": [
        "__Na jakim systemie bazuje Google Colab? Iloma rdzeniami i jaką ilością ramu dysponujemy? (0,2 pkt)__"
      ]
    },
    {
      "metadata": {
        "id": "GAYr3hw4DAZa",
        "colab_type": "text"
      },
      "cell_type": "markdown",
      "source": [
        "Odpowiedź: "
      ]
    },
    {
      "metadata": {
        "id": "DBWGwGdIdo-8",
        "colab_type": "text"
      },
      "cell_type": "markdown",
      "source": [
        "### 1.2 Akceleracja GPU\n",
        "W menu Runtime -> Change runtime type wybierz akcelerację gpu.   \n",
        "Sprawdź informacje o GPU poprzez wykonanie komendy nvidia-smi. __Jakie informacje prezentuje (wymień 3)? (0,3 pkt)__   \n",
        "W odpowiedzi wykorzystaj nienumerowaną listę (podpunkty) języka Markdown."
      ]
    },
    {
      "metadata": {
        "id": "VI4oBgnRef8r",
        "colab_type": "code",
        "colab": {}
      },
      "cell_type": "code",
      "source": [
        "! nvidia-smi"
      ],
      "execution_count": 0,
      "outputs": []
    },
    {
      "metadata": {
        "id": "y4YmghWrhZou",
        "colab_type": "text"
      },
      "cell_type": "markdown",
      "source": [
        "Odpowiedź:"
      ]
    },
    {
      "metadata": {
        "id": "u_Y1CTbibBd9",
        "colab_type": "text"
      },
      "cell_type": "markdown",
      "source": [
        "### 1.3 Zaimportowanie niezbędnych zależności"
      ]
    },
    {
      "metadata": {
        "id": "mSFmnX5AbOU3",
        "colab_type": "code",
        "colab": {}
      },
      "cell_type": "code",
      "source": [
        "import numpy as np\n",
        "import matplotlib.pyplot as plt\n",
        "import pandas as pd\n",
        "import keras"
      ],
      "execution_count": 0,
      "outputs": []
    },
    {
      "metadata": {
        "id": "kYmfi5BnbDDJ",
        "colab_type": "text"
      },
      "cell_type": "markdown",
      "source": [
        "__Do czego służą powyższe pakiety? (0,3 pkt)   \n",
        "W jaki sposób możemy je zainstalować? (0,1 pkt)   \n",
        "Znajdź w internecie lub wykładzie i krótko opisz inną (1) niż wymienione już biblioteki wykorzystywane do celów Data Science i uczenia maszynowego. (0,1 pkt)__"
      ]
    },
    {
      "metadata": {
        "id": "QZBe6I98DYXh",
        "colab_type": "text"
      },
      "cell_type": "markdown",
      "source": [
        "Odpowiedź: "
      ]
    },
    {
      "metadata": {
        "id": "aCLZPTyblXLN",
        "colab_type": "text"
      },
      "cell_type": "markdown",
      "source": [
        "## 2. Zapoznanie z Pythonem 3 (3 pkt)   "
      ]
    },
    {
      "metadata": {
        "id": "O8QqRiOmS5vA",
        "colab_type": "text"
      },
      "cell_type": "markdown",
      "source": [
        "Pomocne informacje: http://cs231n.github.io/python-numpy-tutorial/"
      ]
    },
    {
      "metadata": {
        "id": "TFE-M1y0mACW",
        "colab_type": "text"
      },
      "cell_type": "markdown",
      "source": [
        "### 2.1 Wbudowane obiekty i ich funkcje"
      ]
    },
    {
      "metadata": {
        "id": "lSk7-XsVmcoN",
        "colab_type": "text"
      },
      "cell_type": "markdown",
      "source": [
        "#### 2.1.1 Listy (0,5 pkt)\n",
        "Pomocne informacje: https://www.geeksforgeeks.org/python-list/\n",
        "\n",
        "Definiujemy je kwadratowymi nawiasami bądź poprzez wykonanie polecenia list()."
      ]
    },
    {
      "metadata": {
        "id": "if9xHlH3mb_v",
        "colab_type": "code",
        "colab": {}
      },
      "cell_type": "code",
      "source": [
        "lista_zwierzat = ['Kot Filemon', 'Pies Łajka', 'Szympans Ham', 'Owca Dolly', 'Niedźwiedź Wojtek']"
      ],
      "execution_count": 0,
      "outputs": []
    },
    {
      "metadata": {
        "id": "riuqaT_soW_p",
        "colab_type": "code",
        "colab": {}
      },
      "cell_type": "code",
      "source": [
        "print('Nazwa utworzonego obiektu to: {}'.format(lista_zwierzat.__class__.__name__ ))\n",
        "print('Jego metody to: ',[ x for x in dir(lista_zwierzat.__class__) if '__' not in x])"
      ],
      "execution_count": 0,
      "outputs": []
    },
    {
      "metadata": {
        "id": "0eDE740Anpoq",
        "colab_type": "text"
      },
      "cell_type": "markdown",
      "source": [
        "__Wykorzystując metodę append obiektu List dodaj do listy zwierząt inne znane Ci sławne zwierzę w formie 'Gatunek Imię'. (0,1 pkt)__"
      ]
    },
    {
      "metadata": {
        "id": "SV9ti45RlVmx",
        "colab_type": "code",
        "colab": {}
      },
      "cell_type": "code",
      "source": [
        ""
      ],
      "execution_count": 0,
      "outputs": []
    },
    {
      "metadata": {
        "id": "3jh4kKoTp19R",
        "colab_type": "text"
      },
      "cell_type": "markdown",
      "source": [
        "__Wykorzystując metodę pop usuń największe zwierzę z listy (niedźwiedź). (0,1 pkt)__"
      ]
    },
    {
      "metadata": {
        "id": "dt7FwYZPlU0C",
        "colab_type": "code",
        "colab": {}
      },
      "cell_type": "code",
      "source": [
        ""
      ],
      "execution_count": 0,
      "outputs": []
    },
    {
      "metadata": {
        "id": "wN9mho3TqJNq",
        "colab_type": "text"
      },
      "cell_type": "markdown",
      "source": [
        "__Dodaj do wywołania poniższego kodu sortowanie listy (domyślne parametry), a następnie uzupełnij lukę w celu wydrukowania (print) wyniku w postaci: Imię to gatunek. W celu usunięcia wielkich liter zastosuj metodę lower obiektu string. (0,3 pkt)__"
      ]
    },
    {
      "metadata": {
        "id": "hw_ibtUsrX63",
        "colab_type": "code",
        "colab": {}
      },
      "cell_type": "code",
      "source": [
        "for zwierze in ______(lista_zwierzat):\n",
        "  gatunek_imie = zwierze.split(' ')\n",
        "  imie = gatunek_imie[1]\n",
        "  gatunek = gatunek_imie[0]._____()\n",
        "  print('{} to {}'.______(imie, gatunek))"
      ],
      "execution_count": 0,
      "outputs": []
    },
    {
      "metadata": {
        "id": "6iNhRd6vs15m",
        "colab_type": "text"
      },
      "cell_type": "markdown",
      "source": [
        "#### 2.1.2 Słowniki (0,5 pkt)\n",
        "Pomocne informacje: https://www.geeksforgeeks.org/python-dictionary/\n",
        "\n",
        "__Słowniki__ ({} lub dict()) są obiektami, w których do klucza przypisana jest wartość (forma klucz:wartość). Może ona być dowolnym obiektem. Wykorzystując metodę items możemy iterować po parach (klucz, wartość). Para ta jest zwana __tuple__ (krotka). W odróżnieniu od list jest ona niemutowalna, czyli nie można edytować jej wartości."
      ]
    },
    {
      "metadata": {
        "id": "kPP2bf0NwKpI",
        "colab_type": "text"
      },
      "cell_type": "markdown",
      "source": [
        "__Iterując po liście zwierząt stwórz słownik, gdzie kluczem jest imię, a wartością gatunek.  Wykorzystaj w tym celu dictionary comprehension.(0,5 pkt)__   \n",
        "Podpowiedź: http://cmdlinetips.com/2018/01/5-examples-using-dict-comprehension/"
      ]
    },
    {
      "metadata": {
        "id": "V2Aibr8zs06F",
        "colab_type": "code",
        "colab": {}
      },
      "cell_type": "code",
      "source": [
        "slownik_zwierzat = ________"
      ],
      "execution_count": 0,
      "outputs": []
    },
    {
      "metadata": {
        "id": "fqwkGSrWtfCp",
        "colab_type": "text"
      },
      "cell_type": "markdown",
      "source": [
        "#### 2.1.3 OOP (1 pkt)\n",
        "Pomocne informacje: https://www.geeksforgeeks.org/object-oriented-programming-in-python-set-1-class-and-its-members/"
      ]
    },
    {
      "metadata": {
        "id": "76fxg8NIt7_M",
        "colab_type": "text"
      },
      "cell_type": "markdown",
      "source": [
        "__Uzupełniając poniższy kod stwórz klasę Zoo, której atrybut `self.zwierzaki` będzie przypisywany do instancji obiektu podczas jego tworzenia i będzie zawierał słownik ze zwierzętami z poprzedniego zadania.   \n",
        "Zaimplementuj metody: dodaj, usun (podpowiedź: ta sama metoda, co w list), zlicz (podpowiedź: len), wydrukuj realizujące odpowiednio: dodanie nowych zwierząt do zoo, usunięcie ich z zoo, zliczenie (Format: W zoo jest: x zwierząt.), wypisanie zwierząt (Forma: 1. Gatunek: xxx | Imię: xxx). Sprawdź funkcjonalność zaimplementowanej klasy poprzez utworzenie jej instancji i przetesowanie wszystkich metod. Do czego służą metody _\\_len_\\_, _\\_call_\\_ i _\\_str_\\_ ? (1 pkt)__   \n",
        "   \n",
        "__Zadanie dodatkowe: Zaimplementuj metody dodaj i usuń tak, by umożliwić ich wykonanie dla dowolnej liczby zwierząt.__"
      ]
    },
    {
      "metadata": {
        "id": "oVvpwmcz1czY",
        "colab_type": "code",
        "colab": {}
      },
      "cell_type": "code",
      "source": [
        "class Zoo:\n",
        "  ___ __init__(self, zwierzaki):\n",
        "    self.____ = zwierzaki\n",
        "  \n",
        "  ___ dodaj(self, imie, gatunek):\n",
        "    self.____[___] = ____\n",
        "    \n",
        "  ___ usun(self, imie):\n",
        "    self.____.___()\n",
        "    \n",
        "  ___ zlicz(self):\n",
        "    # wynikiem powinien być int\n",
        "    \n",
        "    return ____\n",
        "  \n",
        "  ___ wydrukuj(self):\n",
        "    print(___)\n",
        "    \n",
        "  "
      ],
      "execution_count": 0,
      "outputs": []
    },
    {
      "metadata": {
        "id": "bHpo3Crh20Vr",
        "colab_type": "text"
      },
      "cell_type": "markdown",
      "source": [
        "Przetestowanie funkcjonalności."
      ]
    },
    {
      "metadata": {
        "id": "QDQcUiZ61c12",
        "colab_type": "code",
        "colab": {}
      },
      "cell_type": "code",
      "source": [
        ""
      ],
      "execution_count": 0,
      "outputs": []
    },
    {
      "metadata": {
        "id": "-qR5GRZxt8q7",
        "colab_type": "text"
      },
      "cell_type": "markdown",
      "source": [
        "### 2.2 Numpy (0,5 pkt)\n",
        "Pomocne informacje: https://www.geeksforgeeks.org/python-numpy/"
      ]
    },
    {
      "metadata": {
        "id": "SDDz186j5r2-",
        "colab_type": "text"
      },
      "cell_type": "markdown",
      "source": [
        "Jeden ze sposobów na otrzymanie dokumentacji (uruchom komórkę):"
      ]
    },
    {
      "metadata": {
        "id": "JLU25lxB3Dct",
        "colab_type": "code",
        "colab": {}
      },
      "cell_type": "code",
      "source": [
        "np.array?"
      ],
      "execution_count": 0,
      "outputs": []
    },
    {
      "metadata": {
        "id": "RAbRGL2F3TWP",
        "colab_type": "text"
      },
      "cell_type": "markdown",
      "source": [
        "__Stwórz macierz numpy poprzez transformację iteratora range od 0 do 15 (włącznie), a następnie do np. array – później użyj metody reshape, by zmienić jej kształt na 4x4. Sprawdź jej kształt, poprzez wbudowaną funkcję assert oraz wydrukuj jej typ danych (metoda dtype).    \n",
        "Czy funkcja assert powinna zwrócić nam jakąś wartość?   \n",
        "O czym mówi nam typ danych? Jakie jeszcze znasz typy danych? (2) (0,5 pkt)__"
      ]
    },
    {
      "metadata": {
        "id": "1GgQkxt-3QpY",
        "colab_type": "code",
        "colab": {}
      },
      "cell_type": "code",
      "source": [
        "arr = np.array(range(_)).reshape((_,_))\n",
        "print(___)\n",
        "assert(arr._____ == (_,_))"
      ],
      "execution_count": 0,
      "outputs": []
    },
    {
      "metadata": {
        "id": "PSUd91AKuBv_",
        "colab_type": "text"
      },
      "cell_type": "markdown",
      "source": [
        "### 2.3 Pandas (0,5 pkt)\n",
        "Pomocne informacje: https://www.geeksforgeeks.org/python-pandas-dataframe/\n"
      ]
    },
    {
      "metadata": {
        "id": "Kvrk1F9o7G9f",
        "colab_type": "code",
        "colab": {}
      },
      "cell_type": "code",
      "source": [
        "pd.DataFrame?"
      ],
      "execution_count": 0,
      "outputs": []
    },
    {
      "metadata": {
        "id": "GA9OwwXK6NQ7",
        "colab_type": "code",
        "colab": {}
      },
      "cell_type": "code",
      "source": [
        "df = pd.DataFrame.from_dict(slownik_zwierzat, orient = 'index')"
      ],
      "execution_count": 0,
      "outputs": []
    },
    {
      "metadata": {
        "id": "l8wQHzhUuB5L",
        "colab_type": "text"
      },
      "cell_type": "markdown",
      "source": [
        "__Wykorzystując stworzony df oraz metody: head i tail wydrukuj wydrukuj 3 pierwsze i 3 ostatnie wiersze df. (0,1 pkt)__\n"
      ]
    },
    {
      "metadata": {
        "id": "nLeoI7zY7cYV",
        "colab_type": "code",
        "colab": {}
      },
      "cell_type": "code",
      "source": [
        ""
      ],
      "execution_count": 0,
      "outputs": []
    },
    {
      "metadata": {
        "id": "ESxbxgjK7fAl",
        "colab_type": "text"
      },
      "cell_type": "markdown",
      "source": [
        "__Dodaj kolumnę (Podpowiedź: Klucz jak w słowniku) wiek z wylosowanymi wartościami przy pomocy funkcji np.random.randint z zakresu 1, 10 (włącznie). (0,1 pkt)__"
      ]
    },
    {
      "metadata": {
        "id": "H2AC95gf8JlT",
        "colab_type": "code",
        "colab": {}
      },
      "cell_type": "code",
      "source": [
        "np.random.randint?"
      ],
      "execution_count": 0,
      "outputs": []
    },
    {
      "metadata": {
        "id": "yeQEXI9H8zUL",
        "colab_type": "text"
      },
      "cell_type": "markdown",
      "source": [
        "__Wykorzystując metodę hist stwórz histogram z wiekiem zwierząt. Wykorzystując plt.title, plt.xlabel, plt.ylabel nazwij odpowiednie pola wykresu. (0,1 pkt)__"
      ]
    },
    {
      "metadata": {
        "id": "TdSvgc5W8oaV",
        "colab_type": "code",
        "colab": {}
      },
      "cell_type": "code",
      "source": [
        ""
      ],
      "execution_count": 0,
      "outputs": []
    },
    {
      "metadata": {
        "id": "XrsllY1e8_95",
        "colab_type": "text"
      },
      "cell_type": "markdown",
      "source": [
        "__Posortuj zwierzęta wg wieku (rosnąco), a następnie wydrukuj zwierzęta w df, których wiek jest mniejszy bądź równy 5. (0,2 pkt)__"
      ]
    },
    {
      "metadata": {
        "id": "7oleusZN8ojn",
        "colab_type": "code",
        "colab": {}
      },
      "cell_type": "code",
      "source": [
        ""
      ],
      "execution_count": 0,
      "outputs": []
    },
    {
      "metadata": {
        "id": "IHgxAvQt_eTL",
        "colab_type": "text"
      },
      "cell_type": "markdown",
      "source": [
        "## 3. Pozyskanie, analiza i wstępna obróbka danych. (1,5 pkt)"
      ]
    },
    {
      "metadata": {
        "id": "seBZdTGNFC3O",
        "colab_type": "text"
      },
      "cell_type": "markdown",
      "source": [
        "__Przy pomocy funkcji z keras.datasets wczytaj zadane dane. (0,1 pkt)__   \n",
        "Pomoc: https://keras.io/datasets/"
      ]
    },
    {
      "metadata": {
        "id": "bxnxv1mkHOu0",
        "colab_type": "code",
        "colab": {}
      },
      "cell_type": "code",
      "source": [
        "from keras.datasets import _____\n",
        "\n",
        "(x_train, y_train), (x_test, y_test) = _____.load_data()"
      ],
      "execution_count": 0,
      "outputs": []
    },
    {
      "metadata": {
        "id": "mYhKIz1ob2fd",
        "colab_type": "text"
      },
      "cell_type": "markdown",
      "source": [
        "Zbiór mnist nie jest kolorowy i nie posiada dodatkowego wymiaru macierzy. Należy rozszerzyć wymiary macierzy w tym celu."
      ]
    },
    {
      "metadata": {
        "id": "2rP4mCRxbl6g",
        "colab_type": "code",
        "colab": {}
      },
      "cell_type": "code",
      "source": [
        "if len(x_train.shape)==3:\n",
        "  x_train.shape = (*x_train.shape,1)\n",
        "  x_test.shape = (*x_test.shape,1)"
      ],
      "execution_count": 0,
      "outputs": []
    },
    {
      "metadata": {
        "id": "QdbR885CIB6-",
        "colab_type": "text"
      },
      "cell_type": "markdown",
      "source": [
        "__Sprawdź zakresy wartości dla 3 kanałów w X_train, przeskaluj dane treningowe i testowe do 0-1 dzieląc wartości przez 255. (0,2 pkt)__"
      ]
    },
    {
      "metadata": {
        "id": "55AY_EllIBEb",
        "colab_type": "code",
        "colab": {}
      },
      "cell_type": "code",
      "source": [
        ""
      ],
      "execution_count": 0,
      "outputs": []
    },
    {
      "metadata": {
        "id": "jo3DcSeJLNYx",
        "colab_type": "text"
      },
      "cell_type": "markdown",
      "source": [
        "Może się zdarzyć, że dane treningowe są zapisane tak, że po ich wczytaniu będą one posortowane wg etykiet.   \n",
        "__Wykreśl wykres 100 pierwszych etykiet, przy pomocy funkcji plt.plot i zaznacz wartości etykiet przy pomocy kropek. Czy według Ciebie dane są wystarczająco dobrze przemieszane? Jeśli nie, użyj jednej z funkcji z np.random do zmiany kolejności X i y. Pamiętaj, aby po wylosowaniu nowych indeksów zastosować te same dla zarówno X, jak i y. (0,4 pkt)__"
      ]
    },
    {
      "metadata": {
        "id": "NKi6RfRCNGB-",
        "colab_type": "code",
        "colab": {}
      },
      "cell_type": "code",
      "source": [
        "plt.plot?"
      ],
      "execution_count": 0,
      "outputs": []
    },
    {
      "metadata": {
        "id": "9WmbVogHLMlj",
        "colab_type": "code",
        "colab": {}
      },
      "cell_type": "code",
      "source": [
        ""
      ],
      "execution_count": 0,
      "outputs": []
    },
    {
      "metadata": {
        "id": "qktQmgDkIols",
        "colab_type": "text"
      },
      "cell_type": "markdown",
      "source": [
        "__Uzupełnij poniższy kod, aby uzyskać siatkę 2x5 wykresów z obrazami oraz etykietami (liczby) w tytule. Do czego służą 3 ostatnie linijki kodu poniżej? (0,3 pkt)__"
      ]
    },
    {
      "metadata": {
        "id": "-_CknJp3HlLq",
        "colab_type": "code",
        "colab": {}
      },
      "cell_type": "code",
      "source": [
        "plt.figure(figsize = (15,4))\n",
        "for i in range(10):\n",
        "  plt.subplot(2,5,i+1)\n",
        "  plt.imshow(np.squeeze(x_train[i]))\n",
        "  plt.title(y_train[i])\n",
        "  plt.grid(False)\n",
        "  plt.xticks([])\n",
        "  plt.yticks([])"
      ],
      "execution_count": 0,
      "outputs": []
    },
    {
      "metadata": {
        "id": "3KSOnJFeKrw8",
        "colab_type": "text"
      },
      "cell_type": "markdown",
      "source": [
        "Odpowiedź:"
      ]
    },
    {
      "metadata": {
        "id": "TRWaSr3qNgQo",
        "colab_type": "text"
      },
      "cell_type": "markdown",
      "source": [
        "__Utwórz obiekt keras.preprocessing.image.ImageDataGenerator, a następnie wykorzystaj metodę flow(x, y), aby dodać dane do generatora obrazów treningowych. Powinien on umożliwiać:__   \n",
        "* __zakres przybliżania [0.9,1.1],__   \n",
        "* __losowy obrót obrazu o maksymalnie 15 stopni (rotation_range),__\n",
        "* __pozostałe parametry domyślnie.__   \n",
        "__Jakie inne możliwości daje ten obiekt? (wymień 4)__   \n",
        "__(0,4 pkt)__   \n",
        "Dokumentacja: https://keras.io/preprocessing/image/"
      ]
    },
    {
      "metadata": {
        "id": "I6J9LjV3Nflx",
        "colab_type": "code",
        "colab": {}
      },
      "cell_type": "code",
      "source": [
        "train_gen = keras.preprocessing.image.ImageDataGenerator(zoom_range = _._, rotation_range = __).____(x_train,y_train)"
      ],
      "execution_count": 0,
      "outputs": []
    },
    {
      "metadata": {
        "id": "aoiTbmsCQyE6",
        "colab_type": "text"
      },
      "cell_type": "markdown",
      "source": [
        "Obiekt ten jest klasą o funkcjonalności generatora. Realizuje za nas operaje, zaimplementowane wykorzystując m.in. bibliotekę Pillow. W bardzo prosty możemy uzyskać zniekształcone (ang. augmentation) obrazy, co może pomóc w lepszym treningu SN i lepszej wydajności na zbiorze testowym.   \n",
        "Domyślna wielkość podzbioru danych (batch size) wykorzystywanego do pojedynczej aktualizacji wag to 32."
      ]
    },
    {
      "metadata": {
        "id": "evOmSw2PQVUO",
        "colab_type": "code",
        "colab": {}
      },
      "cell_type": "code",
      "source": [
        "x_batch, y_batch = train_gen[0]\n",
        "print(x_batch.shape, y_batch.shape)"
      ],
      "execution_count": 0,
      "outputs": []
    },
    {
      "metadata": {
        "id": "SiXzqeoRRuro",
        "colab_type": "text"
      },
      "cell_type": "markdown",
      "source": [
        "__W analogiczny sposób, jak w zadaniu 3 komórki wyżej, stwórz wykresy danych po zniekształceniu. (0,1 pkt)__"
      ]
    },
    {
      "metadata": {
        "id": "FBEvVriSRelz",
        "colab_type": "code",
        "colab": {}
      },
      "cell_type": "code",
      "source": [
        "plt.figure(figsize = (15,4))\n",
        "for i in range(10):\n",
        "  plt.subplot(2,5,i+1)\n",
        "  plt.imshow(np.squeeze(____))\n",
        "  plt.title(_____)\n",
        "  plt.grid(False)\n",
        "  plt.xticks([])\n",
        "  plt.yticks([])"
      ],
      "execution_count": 0,
      "outputs": []
    },
    {
      "metadata": {
        "id": "aprgM4Vi_3rz",
        "colab_type": "text"
      },
      "cell_type": "markdown",
      "source": [
        "## 4. Implementacja i trening głębokiej sieci neuronowej. (3 pkt)"
      ]
    },
    {
      "metadata": {
        "id": "GrYCbxpdTnVo",
        "colab_type": "text"
      },
      "cell_type": "markdown",
      "source": [
        "__ Zaimplementuj model oparty na keras.models.Sequential składający się z kolejno (0,5 pkt):__\n",
        "* Warstwy konwolucyjnej 2D z 32 filtrami 3x3 i krokiem = 1,\n",
        "* Warstwy głosującej wykorzystującej filtr 2x2, kroku = 2, \n",
        "* Warstwy konwolucyjnej 2D z 64 filtrami 3x3 i krokiem = 1,\n",
        "* Warstwy głosującej wykorzystującej filtr 2x2, kroku = 2, \n",
        "* Warstwy konwolucyjnej 2D z 128 filtrami 3x3 i krokiem = 1,\n",
        "* Warstwy głosującej wykorzystującej filtr 2x2, kroku = 2, \n",
        "* Warstwy w pełni połączonej z 256 neuronami,\n",
        "* Warstwy w pełni połączonej z liczbą neuronów odpowiadającą liczbie klas.   \n",
        "\n",
        "Funkcja aktywacji dla warstw konwolucyjnych i przedostatniej (w pełni połączonej): relu.\n",
        "Funkcja aktywacji dla ostatniej warstwy: soft-max.   \n",
        "Pomoc: https://keras.io/getting-started/sequential-model-guide/"
      ]
    },
    {
      "metadata": {
        "id": "TcZkJRo8WjgA",
        "colab_type": "code",
        "colab": {}
      },
      "cell_type": "code",
      "source": [
        "from keras.models import Sequential\n",
        "from keras.layers import Dense, Dropout, Flatten\n",
        "from keras.layers import Conv2D, MaxPooling2D\n",
        "from keras.optimizers import SGD"
      ],
      "execution_count": 0,
      "outputs": []
    },
    {
      "metadata": {
        "id": "DAd1OZxm_8Z5",
        "colab_type": "code",
        "colab": {}
      },
      "cell_type": "code",
      "source": [
        "model = Sequential()\n",
        "model.add(Conv2D(__, (_, _), activation='____', input_shape=x_train.shape[1:], padding = 'same'))\n",
        "model.add(MaxPooling2D(pool_size=(2, 2)))\n",
        "model.add(Conv2D(__, (_, _), activation='____', padding = 'same'))\n",
        "model.add(MaxPooling2D(pool_size=(2, 2)))\n",
        "model.add(Conv2D(___, (_, _), activation='____', padding = 'same'))\n",
        "model.add(MaxPooling2D(pool_size=(2, 2)))\n",
        "model.add(Flatten())\n",
        "model.add(Dense(___, activation='____'))\n",
        "model.add(Dense(len(np.unique(y_train)), activation='_______'))"
      ],
      "execution_count": 0,
      "outputs": []
    },
    {
      "metadata": {
        "id": "uABA_V2hXcD3",
        "colab_type": "text"
      },
      "cell_type": "markdown",
      "source": [
        "__Użyj metody modelu `summary` w celu uzyskania wydruku architektury modelu.   \n",
        "Czy warstwy: Dropout, Flatten i głosująca mają trenowalne parametry?   \n",
        "Która z warstw posiada największą liczbę parametrów? (0,4 pkt)__"
      ]
    },
    {
      "metadata": {
        "id": "H2UkKq2bXN9w",
        "colab_type": "code",
        "colab": {}
      },
      "cell_type": "code",
      "source": [
        "model.summary()"
      ],
      "execution_count": 0,
      "outputs": []
    },
    {
      "metadata": {
        "id": "Y8x15AQpXzcz",
        "colab_type": "text"
      },
      "cell_type": "markdown",
      "source": [
        "Odpowiedź:"
      ]
    },
    {
      "metadata": {
        "id": "-FvHTWBuYL1h",
        "colab_type": "text"
      },
      "cell_type": "markdown",
      "source": [
        "__Przygotuj model do treningu, wykorzystując metodę compile i wybierając metodę optymalizacji sgd z domyślnymi parametrami, funkcję straty sparse_categorical_crossentropy i metrykę accuracy. Dlaczego używamy funkcji straty categorical_crossentropy? Jakiej operacji należałoby użyć, aby można było zastosować categorical_crossentropy (nazwa przykładowej funkcji realizującej operację lub opis). (0,3 pkt)__   \n",
        "Pomoc: https://keras.io/getting-started/sequential-model-guide/"
      ]
    },
    {
      "metadata": {
        "id": "veCn2yNaZH1f",
        "colab_type": "code",
        "colab": {}
      },
      "cell_type": "code",
      "source": [
        "model.compile(optimizer = '___', loss = '_________________', metrics = ['___'])"
      ],
      "execution_count": 0,
      "outputs": []
    },
    {
      "metadata": {
        "id": "Nh01opnEZuZG",
        "colab_type": "text"
      },
      "cell_type": "markdown",
      "source": [
        "__Uzupełnij luki w wywołaniu trenowania modelu na generatorze obrazów. Trening powinien trwać 15 epok, a do walidacji co epokę zostać wykorzystane obrazy i etykiety testowe. (0,2 pkt)__"
      ]
    },
    {
      "metadata": {
        "id": "EB-g3QENZuhN",
        "colab_type": "code",
        "colab": {}
      },
      "cell_type": "code",
      "source": [
        "model.fit_generator(train_gen, steps_per_epoch=len(train_gen)//32, epochs=__, validation_data=(______,______))\n"
      ],
      "execution_count": 0,
      "outputs": []
    },
    {
      "metadata": {
        "id": "fj4GTOuJeLLS",
        "colab_type": "text"
      },
      "cell_type": "markdown",
      "source": [
        "__Zapisz model w postaci pliku hdf5. (0,1 pkt)__"
      ]
    },
    {
      "metadata": {
        "id": "TCbxUMi3eZrE",
        "colab_type": "code",
        "colab": {}
      },
      "cell_type": "code",
      "source": [
        "model.____('model_v1.h5')"
      ],
      "execution_count": 0,
      "outputs": []
    },
    {
      "metadata": {
        "id": "DxVtk_vQeeTU",
        "colab_type": "text"
      },
      "cell_type": "markdown",
      "source": [
        "__Uzupełnij implementację funkcji, która będzie przyjmowała jako parametry:__\n",
        "* __n_conv – liczba warstw konwolucyjnych,__\n",
        "* __n_dense – liczba warstw w pełni połączonych (poza ostatnią - do klasyfikacji),__\n",
        "* __dropout – prawdopodobieństwo nietrenowania % parametrów przedostatniej warstwy.__\n",
        "__Wykorzystaj w tym celu pętlę for loop i kod z wcześniejszego modelu.__\n",
        "__Funkcja powinna zwracać skompilowany model, gotowy do treningu.__\n",
        "__Przetestuj funkcję. (0,5 pkt).__"
      ]
    },
    {
      "metadata": {
        "id": "RLIZAwnefiPx",
        "colab_type": "code",
        "colab": {}
      },
      "cell_type": "code",
      "source": [
        "def get_model(n_conv = 3, n_dense = 1, dropout = None):\n",
        "  if _____<1:\n",
        "    raise ValueError('Model powinien zawierać przynajmniej jedną warstwę konwolucyjną!')\n",
        "  if _____<1:\n",
        "    raise ValueError('Model powinien zawierać przynajmniej jedną warstwę w pełni połaczoną!')\n",
        "\n",
        "  model = ________()\n",
        "  model.add(Conv2D(32, (3, 3), activation='____', input_shape=x_train.shape[1:]), padding = 'same')\n",
        "  model.add(MaxPooling2D(pool_size=(2, 2)))\n",
        "  \n",
        "  # Należy dodać pierwszą warstwę konwolucyjną osobno, aby dodać wymiary macierzy wejściowej.\n",
        "  for i in range(______-1):\n",
        "    model.add(Conv2D((2**i)*64, (3, 3), activation='____'), padding = 'same')\n",
        "    model.add(MaxPooling2D(pool_size=(2, 2)))\n",
        "    \n",
        "  model.add(Flatten())\n",
        "   \n",
        "  for _ in range(______):\n",
        "    model.add(Dense(256, activation='relu'))\n",
        "  \n",
        "  if dropout:\n",
        "    model.add(Dropout(_______))\n",
        "  \n",
        "  model.add(Dense(len(np.unique(y_train)), activation='_____'))\n",
        "  \n",
        "  model.compile(optimizer = 'sgd', loss = 'sparse_categorical_crossentropy', metrics = ['acc'])\n",
        "  \n",
        "  return _____"
      ],
      "execution_count": 0,
      "outputs": []
    },
    {
      "metadata": {
        "id": "8rECcvKPhREI",
        "colab_type": "code",
        "colab": {}
      },
      "cell_type": "code",
      "source": [
        ""
      ],
      "execution_count": 0,
      "outputs": []
    },
    {
      "metadata": {
        "id": "fDRrI7D-h-X2",
        "colab_type": "text"
      },
      "cell_type": "markdown",
      "source": [
        "__Zapoznaj się z dokumentacją funkcji typu callback w frameworku Keras: https://keras.io/callbacks/. Będzie ona przydatna w kolejnych zadaniach, w których celem będzie przetestowanie i dobranie najlepszej architektury.__"
      ]
    },
    {
      "metadata": {
        "id": "ExN35AToib1H",
        "colab_type": "text"
      },
      "cell_type": "markdown",
      "source": [
        "### 4.1 Trening różnych architektur sieci neuronowych."
      ]
    },
    {
      "metadata": {
        "id": "_1ndOSxiitDL",
        "colab_type": "text"
      },
      "cell_type": "markdown",
      "source": [
        "__Wykorzystując wcześniej zaimplementowaną funkcję, wytrenuj 3 modele podczas maksymalnie 20 cykli (ang. epochs), limitując ich ilość poprzez obiekt keras.callbacks.EarlyStopping z parametrem patience = 3 i pozostałymi domyślnymi parametrami oraz zapisując kopię modelu z najniższą wartością val_loss (keras.callbacks.ModelCheckpoint – nazwa pliku z modelem dowolna).   \n",
        "Ważne jest, by między eksperymentami ulegała zmianie, aby później można było je przetestować pod kątem miar jakości klasyfikacji dla danych testowych.__\n",
        "__Warianty:__\n",
        "* __zwiększ o 1 liczbę warstw konwolucyjnych,__\n",
        "* __dodaj do bazowego modelu dropout o prawdopodobieństwie = 0.5,__\n",
        "* __wybierz według uznania parametry modelu.__   \n",
        "\n",
        "__(1 pkt)__\n",
        "\n",
        "Pamiętaj o ścieżkach do zapisanych modeli.\n",
        "\n",
        "Podpowiedź:\n",
        "```python\n",
        "model = get_model(...)\n",
        "model.fit_generator(..., callbacks = [..., ...])\n",
        "```"
      ]
    },
    {
      "metadata": {
        "id": "y19YYQt4_80O",
        "colab_type": "text"
      },
      "cell_type": "markdown",
      "source": [
        "## 5. Ewaluacja wyników. (1,5 pkt)"
      ]
    },
    {
      "metadata": {
        "id": "Tv6JJfvWADdC",
        "colab_type": "text"
      },
      "cell_type": "markdown",
      "source": [
        "__Wczytaj po kolei 4 zapisane wcześniej modele, wykonaj predykcję na danych testowych, a następnie wyświetl macierze konfuzji. (0,5 pkt)__   \n",
        "Poniższy kod pochodzi z dokumentacji sklearn i tworzy gotowy wykres."
      ]
    },
    {
      "metadata": {
        "id": "S_FY2DnolxdM",
        "colab_type": "code",
        "colab": {}
      },
      "cell_type": "code",
      "source": [
        "from sklearn.metrics import confusion_matrix\n",
        "from sklearn.utils.multiclass import unique_labels\n",
        "\n",
        "def plot_confusion_matrix(y_true, y_pred, classes,\n",
        "                          normalize=False,\n",
        "                          title=None,\n",
        "                          cmap=plt.cm.Blues):\n",
        "    \"\"\"\n",
        "    This function prints and plots the confusion matrix.\n",
        "    Normalization can be applied by setting `normalize=True`.\n",
        "    \"\"\"\n",
        "    if not title:\n",
        "        if normalize:\n",
        "            title = 'Normalized confusion matrix'\n",
        "        else:\n",
        "            title = 'Confusion matrix, without normalization'\n",
        "\n",
        "    # Compute confusion matrix\n",
        "    cm = confusion_matrix(y_true, y_pred)\n",
        "    # Only use the labels that appear in the data\n",
        "    classes = classes[unique_labels(y_true, y_pred)]\n",
        "    if normalize:\n",
        "        cm = cm.astype('float') / cm.sum(axis=1)[:, np.newaxis]\n",
        "        print(\"Normalized confusion matrix\")\n",
        "    else:\n",
        "        print('Confusion matrix, without normalization')\n",
        "\n",
        "    print(cm)\n",
        "\n",
        "    fig, ax = plt.subplots()\n",
        "    im = ax.imshow(cm, interpolation='nearest', cmap=cmap)\n",
        "    ax.figure.colorbar(im, ax=ax)\n",
        "    # We want to show all ticks...\n",
        "    ax.set(xticks=np.arange(cm.shape[1]),\n",
        "           yticks=np.arange(cm.shape[0]),\n",
        "           # ... and label them with the respective list entries\n",
        "           xticklabels=classes, yticklabels=classes,\n",
        "           title=title,\n",
        "           ylabel='True label',\n",
        "           xlabel='Predicted label')\n",
        "\n",
        "    # Rotate the tick labels and set their alignment.\n",
        "    plt.setp(ax.get_xticklabels(), rotation=45, ha=\"right\",\n",
        "             rotation_mode=\"anchor\")\n",
        "\n",
        "    # Loop over data dimensions and create text annotations.\n",
        "    fmt = '.2f' if normalize else 'd'\n",
        "    thresh = cm.max() / 2.\n",
        "    for i in range(cm.shape[0]):\n",
        "        for j in range(cm.shape[1]):\n",
        "            ax.text(j, i, format(cm[i, j], fmt),\n",
        "                    ha=\"center\", va=\"center\",\n",
        "                    color=\"white\" if cm[i, j] > thresh else \"black\")\n",
        "    fig.tight_layout()\n",
        "    return ax\n",
        "\n",
        "\n",
        "np.set_printoptions(precision=2)"
      ],
      "execution_count": 0,
      "outputs": []
    },
    {
      "metadata": {
        "id": "o4scmEfCnzm7",
        "colab_type": "text"
      },
      "cell_type": "markdown",
      "source": [
        "Przykładowe użycie (proszę rozszerzyć na wszystkie wytrenowane modele iterując po liście ich nazw)."
      ]
    },
    {
      "metadata": {
        "id": "sheDTXmLmADP",
        "colab_type": "code",
        "colab": {}
      },
      "cell_type": "code",
      "source": [
        "y_pred = np.argmax(model.predict(x_test), axis = 1)\n",
        "plt.figure(figsize=(20,20))\n",
        "plot_confusion_matrix(y_test, y_pred, classes=np.unique(y_test), normalize=True,\n",
        "                      title='Normalized confusion matrix')\n",
        "plt.grid(False)\n",
        "plt.show()"
      ],
      "execution_count": 0,
      "outputs": []
    },
    {
      "metadata": {
        "id": "YzKpDpCDsSVF",
        "colab_type": "code",
        "colab": {}
      },
      "cell_type": "code",
      "source": [
        ""
      ],
      "execution_count": 0,
      "outputs": []
    },
    {
      "metadata": {
        "id": "Bq-XjS8el5nf",
        "colab_type": "text"
      },
      "cell_type": "markdown",
      "source": [
        "__Który model działa najlepiej? Czy zwiększenie liczby warstw konwolucyjnych dało pozytywne rezultaty? Czy trening sieci neuronowej z dropoutem pozwolił na zmniejszenie różnicy średniej dokładności podczas treningu, między zbiorem treningowym, a testowym? Czy model z wybranymi przez Ciebie parametrami uzyskał lepsze osiągi? Dlaczego tak/nie? (1 pkt)__"
      ]
    },
    {
      "metadata": {
        "id": "OiKegyiGqGhp",
        "colab_type": "text"
      },
      "cell_type": "markdown",
      "source": [
        "Odpowiedź:"
      ]
    },
    {
      "metadata": {
        "id": "Wb1a3frPqFhb",
        "colab_type": "text"
      },
      "cell_type": "markdown",
      "source": [
        "__Zadanie dodatkowe: Spróbuj poprawić powyższą implementacje modelu, w celu uzyskania lepszych wyników.__"
      ]
    },
    {
      "metadata": {
        "id": "jD2uJdCFsPZ-",
        "colab_type": "code",
        "colab": {}
      },
      "cell_type": "code",
      "source": [
        ""
      ],
      "execution_count": 0,
      "outputs": []
    }
  ]
}